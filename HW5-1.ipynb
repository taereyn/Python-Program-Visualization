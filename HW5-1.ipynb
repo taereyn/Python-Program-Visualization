{
 "cells": [
  {
   "cell_type": "code",
   "execution_count": 85,
   "metadata": {
    "scrolled": true
   },
   "outputs": [
    {
     "data": {
      "text/html": [
       "<div>\n",
       "<style scoped>\n",
       "    .dataframe tbody tr th:only-of-type {\n",
       "        vertical-align: middle;\n",
       "    }\n",
       "\n",
       "    .dataframe tbody tr th {\n",
       "        vertical-align: top;\n",
       "    }\n",
       "\n",
       "    .dataframe thead th {\n",
       "        text-align: right;\n",
       "    }\n",
       "</style>\n",
       "<table border=\"1\" class=\"dataframe\">\n",
       "  <thead>\n",
       "    <tr style=\"text-align: right;\">\n",
       "      <th></th>\n",
       "      <th>Driver Number</th>\n",
       "      <th>Mean C#1</th>\n",
       "      <th>Mean Lane Position</th>\n",
       "      <th>Mean Speed</th>\n",
       "      <th>Mean Steering</th>\n",
       "      <th>Phase Number</th>\n",
       "    </tr>\n",
       "  </thead>\n",
       "  <tbody>\n",
       "    <tr>\n",
       "      <th>0</th>\n",
       "      <td>4</td>\n",
       "      <td>0.005296</td>\n",
       "      <td>2.192481</td>\n",
       "      <td>33.085712</td>\n",
       "      <td>-0.002051</td>\n",
       "      <td>1</td>\n",
       "    </tr>\n",
       "    <tr>\n",
       "      <th>1</th>\n",
       "      <td>4</td>\n",
       "      <td>0.005112</td>\n",
       "      <td>2.232543</td>\n",
       "      <td>44.110936</td>\n",
       "      <td>-0.000170</td>\n",
       "      <td>2</td>\n",
       "    </tr>\n",
       "    <tr>\n",
       "      <th>2</th>\n",
       "      <td>4</td>\n",
       "      <td>0.005352</td>\n",
       "      <td>3.369663</td>\n",
       "      <td>44.120461</td>\n",
       "      <td>0.000328</td>\n",
       "      <td>3</td>\n",
       "    </tr>\n",
       "    <tr>\n",
       "      <th>3</th>\n",
       "      <td>4</td>\n",
       "      <td>0.005331</td>\n",
       "      <td>2.245137</td>\n",
       "      <td>43.768797</td>\n",
       "      <td>0.000065</td>\n",
       "      <td>4</td>\n",
       "    </tr>\n",
       "    <tr>\n",
       "      <th>4</th>\n",
       "      <td>4</td>\n",
       "      <td>0.005670</td>\n",
       "      <td>2.218870</td>\n",
       "      <td>43.560012</td>\n",
       "      <td>-0.000171</td>\n",
       "      <td>5</td>\n",
       "    </tr>\n",
       "    <tr>\n",
       "      <th>5</th>\n",
       "      <td>5</td>\n",
       "      <td>0.005959</td>\n",
       "      <td>2.236578</td>\n",
       "      <td>32.759561</td>\n",
       "      <td>-0.001750</td>\n",
       "      <td>1</td>\n",
       "    </tr>\n",
       "    <tr>\n",
       "      <th>6</th>\n",
       "      <td>5</td>\n",
       "      <td>0.006723</td>\n",
       "      <td>2.283587</td>\n",
       "      <td>43.678108</td>\n",
       "      <td>0.000188</td>\n",
       "      <td>2</td>\n",
       "    </tr>\n",
       "    <tr>\n",
       "      <th>7</th>\n",
       "      <td>5</td>\n",
       "      <td>0.006027</td>\n",
       "      <td>3.327765</td>\n",
       "      <td>43.421378</td>\n",
       "      <td>-0.000124</td>\n",
       "      <td>3</td>\n",
       "    </tr>\n",
       "    <tr>\n",
       "      <th>8</th>\n",
       "      <td>5</td>\n",
       "      <td>0.006922</td>\n",
       "      <td>2.352519</td>\n",
       "      <td>43.199033</td>\n",
       "      <td>0.000179</td>\n",
       "      <td>4</td>\n",
       "    </tr>\n",
       "    <tr>\n",
       "      <th>9</th>\n",
       "      <td>5</td>\n",
       "      <td>0.006321</td>\n",
       "      <td>2.263826</td>\n",
       "      <td>34.167074</td>\n",
       "      <td>-0.001080</td>\n",
       "      <td>5</td>\n",
       "    </tr>\n",
       "    <tr>\n",
       "      <th>10</th>\n",
       "      <td>6</td>\n",
       "      <td>0.005072</td>\n",
       "      <td>2.263691</td>\n",
       "      <td>33.306186</td>\n",
       "      <td>0.007966</td>\n",
       "      <td>1</td>\n",
       "    </tr>\n",
       "    <tr>\n",
       "      <th>11</th>\n",
       "      <td>6</td>\n",
       "      <td>0.005780</td>\n",
       "      <td>2.270101</td>\n",
       "      <td>44.164501</td>\n",
       "      <td>0.000184</td>\n",
       "      <td>2</td>\n",
       "    </tr>\n",
       "    <tr>\n",
       "      <th>12</th>\n",
       "      <td>6</td>\n",
       "      <td>0.005581</td>\n",
       "      <td>3.382188</td>\n",
       "      <td>44.314753</td>\n",
       "      <td>0.000573</td>\n",
       "      <td>3</td>\n",
       "    </tr>\n",
       "    <tr>\n",
       "      <th>13</th>\n",
       "      <td>6</td>\n",
       "      <td>0.005942</td>\n",
       "      <td>2.340778</td>\n",
       "      <td>43.200916</td>\n",
       "      <td>-0.000366</td>\n",
       "      <td>4</td>\n",
       "    </tr>\n",
       "    <tr>\n",
       "      <th>14</th>\n",
       "      <td>6</td>\n",
       "      <td>0.005924</td>\n",
       "      <td>2.286313</td>\n",
       "      <td>43.684857</td>\n",
       "      <td>-0.000106</td>\n",
       "      <td>5</td>\n",
       "    </tr>\n",
       "    <tr>\n",
       "      <th>15</th>\n",
       "      <td>7</td>\n",
       "      <td>0.005214</td>\n",
       "      <td>2.214335</td>\n",
       "      <td>33.694596</td>\n",
       "      <td>0.000527</td>\n",
       "      <td>1</td>\n",
       "    </tr>\n",
       "    <tr>\n",
       "      <th>16</th>\n",
       "      <td>7</td>\n",
       "      <td>0.005176</td>\n",
       "      <td>2.191745</td>\n",
       "      <td>43.380931</td>\n",
       "      <td>0.000106</td>\n",
       "      <td>2</td>\n",
       "    </tr>\n",
       "    <tr>\n",
       "      <th>17</th>\n",
       "      <td>7</td>\n",
       "      <td>0.005365</td>\n",
       "      <td>3.426060</td>\n",
       "      <td>44.458686</td>\n",
       "      <td>-0.000132</td>\n",
       "      <td>3</td>\n",
       "    </tr>\n",
       "    <tr>\n",
       "      <th>18</th>\n",
       "      <td>7</td>\n",
       "      <td>0.005632</td>\n",
       "      <td>2.114493</td>\n",
       "      <td>42.473459</td>\n",
       "      <td>-0.000081</td>\n",
       "      <td>4</td>\n",
       "    </tr>\n",
       "    <tr>\n",
       "      <th>19</th>\n",
       "      <td>7</td>\n",
       "      <td>0.005393</td>\n",
       "      <td>2.262530</td>\n",
       "      <td>39.866066</td>\n",
       "      <td>0.000252</td>\n",
       "      <td>5</td>\n",
       "    </tr>\n",
       "  </tbody>\n",
       "</table>\n",
       "</div>"
      ],
      "text/plain": [
       "    Driver Number  Mean C#1  Mean Lane Position  Mean Speed  Mean Steering  \\\n",
       "0               4  0.005296            2.192481   33.085712      -0.002051   \n",
       "1               4  0.005112            2.232543   44.110936      -0.000170   \n",
       "2               4  0.005352            3.369663   44.120461       0.000328   \n",
       "3               4  0.005331            2.245137   43.768797       0.000065   \n",
       "4               4  0.005670            2.218870   43.560012      -0.000171   \n",
       "5               5  0.005959            2.236578   32.759561      -0.001750   \n",
       "6               5  0.006723            2.283587   43.678108       0.000188   \n",
       "7               5  0.006027            3.327765   43.421378      -0.000124   \n",
       "8               5  0.006922            2.352519   43.199033       0.000179   \n",
       "9               5  0.006321            2.263826   34.167074      -0.001080   \n",
       "10              6  0.005072            2.263691   33.306186       0.007966   \n",
       "11              6  0.005780            2.270101   44.164501       0.000184   \n",
       "12              6  0.005581            3.382188   44.314753       0.000573   \n",
       "13              6  0.005942            2.340778   43.200916      -0.000366   \n",
       "14              6  0.005924            2.286313   43.684857      -0.000106   \n",
       "15              7  0.005214            2.214335   33.694596       0.000527   \n",
       "16              7  0.005176            2.191745   43.380931       0.000106   \n",
       "17              7  0.005365            3.426060   44.458686      -0.000132   \n",
       "18              7  0.005632            2.114493   42.473459      -0.000081   \n",
       "19              7  0.005393            2.262530   39.866066       0.000252   \n",
       "\n",
       "    Phase Number  \n",
       "0              1  \n",
       "1              2  \n",
       "2              3  \n",
       "3              4  \n",
       "4              5  \n",
       "5              1  \n",
       "6              2  \n",
       "7              3  \n",
       "8              4  \n",
       "9              5  \n",
       "10             1  \n",
       "11             2  \n",
       "12             3  \n",
       "13             4  \n",
       "14             5  \n",
       "15             1  \n",
       "16             2  \n",
       "17             3  \n",
       "18             4  \n",
       "19             5  "
      ]
     },
     "execution_count": 85,
     "metadata": {},
     "output_type": "execute_result"
    }
   ],
   "source": [
    "import pandas as pd\n",
    "\n",
    "data = pd.DataFrame({'Driver Number':     [4,4,4,4,4,5,5,5,5,5,6,6,6,6,6,7,7,7,7,7], \n",
    "                     'Phase Number':      [1,             2,             3,             4,             5,            1,             2,            3,            4,            5,             1,            2,             3,            4,              5,             1,             2,             3,              4,             5], \n",
    "                     'Mean C#1':          [0.005296171,   0.005112366,   0.005351587,   0.005330712,   0.005670496,  0.005958964,   0.006723065,  0.006027282,  0.00692246,   0.006321351,  0.005072077,   0.005779972,   0.005580563,  0.005941605,    0.005923695,   0.005213591,   0.005175913,   0.005365344,    0.00563247,    0.005392539],  \n",
    "                     'Mean Speed':        [33.08571218,   44.11093575,   44.12046125,   43.76879734,  43.56001224,   32.75956087,   43.67810754,  43.42137821,  43.19903284,  34.16707435,  33.30618553,   44.16450068,   44.31475332,  43.20091595,    43.68485684,   33.69459561,   43.38093101,   44.45868576,    42.47345893,   39.86606621],\n",
    "                     'Mean Steering':     [-0.002051016,  -0.000169513,  0.000327755,   6.4607E-05,   -0.000171134,  -0.001749645,  0.000188224,  -0.000123911, 0.000179108,  -0.001080448,  0.007965642,  0.000183906,   0.000572984,  -0.000366053,   -0.000106393,  0.000526748,   0.000106026,   -0.000132269,   -8.05477E-05,  0.000251913],\n",
    "                     'Mean Lane Position':[2.192481165,    2.232542862,  3.369663044,   2.245136732,   2.218870008,  2.236577781,   2.283586744,  3.327765396,  2.352519092,  2.263826124,   2.263691419,   2.270100747,  3.382188448,  2.340777689,    2.286312828,   2.214335378,   2.191745277,   3.426059528,    2.114492502,   2.262530347]\n",
    "                     })\n",
    "data"
   ]
  },
  {
   "cell_type": "code",
   "execution_count": 11,
   "metadata": {
    "collapsed": true
   },
   "outputs": [
    {
     "data": {
      "text/html": [
       "<div>\n",
       "<style scoped>\n",
       "    .dataframe tbody tr th:only-of-type {\n",
       "        vertical-align: middle;\n",
       "    }\n",
       "\n",
       "    .dataframe tbody tr th {\n",
       "        vertical-align: top;\n",
       "    }\n",
       "\n",
       "    .dataframe thead th {\n",
       "        text-align: right;\n",
       "    }\n",
       "</style>\n",
       "<table border=\"1\" class=\"dataframe\">\n",
       "  <thead>\n",
       "    <tr style=\"text-align: right;\">\n",
       "      <th></th>\n",
       "      <th>Driver Number</th>\n",
       "      <th>Phase Number</th>\n",
       "      <th>Mean C#1</th>\n",
       "      <th>Mean Speed</th>\n",
       "      <th>Mean Steering</th>\n",
       "      <th>Mean Lane Position</th>\n",
       "    </tr>\n",
       "  </thead>\n",
       "  <tbody>\n",
       "    <tr>\n",
       "      <th>0</th>\n",
       "      <td>4</td>\n",
       "      <td>1</td>\n",
       "      <td>0.005296</td>\n",
       "      <td>33.085712</td>\n",
       "      <td>-0.002051</td>\n",
       "      <td>2.192481</td>\n",
       "    </tr>\n",
       "    <tr>\n",
       "      <th>1</th>\n",
       "      <td>4</td>\n",
       "      <td>2</td>\n",
       "      <td>0.005112</td>\n",
       "      <td>44.110936</td>\n",
       "      <td>-0.000170</td>\n",
       "      <td>2.232543</td>\n",
       "    </tr>\n",
       "    <tr>\n",
       "      <th>2</th>\n",
       "      <td>4</td>\n",
       "      <td>3</td>\n",
       "      <td>0.005352</td>\n",
       "      <td>44.120461</td>\n",
       "      <td>0.000328</td>\n",
       "      <td>3.369663</td>\n",
       "    </tr>\n",
       "    <tr>\n",
       "      <th>3</th>\n",
       "      <td>4</td>\n",
       "      <td>4</td>\n",
       "      <td>0.005331</td>\n",
       "      <td>43.768797</td>\n",
       "      <td>0.000065</td>\n",
       "      <td>2.245137</td>\n",
       "    </tr>\n",
       "    <tr>\n",
       "      <th>4</th>\n",
       "      <td>4</td>\n",
       "      <td>5</td>\n",
       "      <td>0.005670</td>\n",
       "      <td>43.560012</td>\n",
       "      <td>-0.000171</td>\n",
       "      <td>2.218870</td>\n",
       "    </tr>\n",
       "    <tr>\n",
       "      <th>5</th>\n",
       "      <td>5</td>\n",
       "      <td>1</td>\n",
       "      <td>0.005959</td>\n",
       "      <td>32.759561</td>\n",
       "      <td>-0.001750</td>\n",
       "      <td>2.236578</td>\n",
       "    </tr>\n",
       "    <tr>\n",
       "      <th>6</th>\n",
       "      <td>5</td>\n",
       "      <td>2</td>\n",
       "      <td>0.006723</td>\n",
       "      <td>43.678108</td>\n",
       "      <td>0.000188</td>\n",
       "      <td>2.283587</td>\n",
       "    </tr>\n",
       "    <tr>\n",
       "      <th>7</th>\n",
       "      <td>5</td>\n",
       "      <td>3</td>\n",
       "      <td>0.006027</td>\n",
       "      <td>43.421378</td>\n",
       "      <td>-0.000124</td>\n",
       "      <td>3.327765</td>\n",
       "    </tr>\n",
       "    <tr>\n",
       "      <th>8</th>\n",
       "      <td>5</td>\n",
       "      <td>4</td>\n",
       "      <td>0.006922</td>\n",
       "      <td>43.199033</td>\n",
       "      <td>0.000179</td>\n",
       "      <td>2.352519</td>\n",
       "    </tr>\n",
       "    <tr>\n",
       "      <th>9</th>\n",
       "      <td>5</td>\n",
       "      <td>5</td>\n",
       "      <td>0.006321</td>\n",
       "      <td>34.167074</td>\n",
       "      <td>-0.001080</td>\n",
       "      <td>2.263826</td>\n",
       "    </tr>\n",
       "    <tr>\n",
       "      <th>10</th>\n",
       "      <td>6</td>\n",
       "      <td>1</td>\n",
       "      <td>0.005072</td>\n",
       "      <td>33.306186</td>\n",
       "      <td>0.007966</td>\n",
       "      <td>2.263691</td>\n",
       "    </tr>\n",
       "    <tr>\n",
       "      <th>11</th>\n",
       "      <td>6</td>\n",
       "      <td>2</td>\n",
       "      <td>0.005780</td>\n",
       "      <td>44.164501</td>\n",
       "      <td>0.000184</td>\n",
       "      <td>2.270101</td>\n",
       "    </tr>\n",
       "    <tr>\n",
       "      <th>12</th>\n",
       "      <td>6</td>\n",
       "      <td>3</td>\n",
       "      <td>0.005581</td>\n",
       "      <td>44.314753</td>\n",
       "      <td>0.000573</td>\n",
       "      <td>3.382188</td>\n",
       "    </tr>\n",
       "    <tr>\n",
       "      <th>13</th>\n",
       "      <td>6</td>\n",
       "      <td>4</td>\n",
       "      <td>0.005942</td>\n",
       "      <td>43.200916</td>\n",
       "      <td>-0.000366</td>\n",
       "      <td>2.340778</td>\n",
       "    </tr>\n",
       "    <tr>\n",
       "      <th>14</th>\n",
       "      <td>6</td>\n",
       "      <td>5</td>\n",
       "      <td>0.005924</td>\n",
       "      <td>43.684857</td>\n",
       "      <td>-0.000106</td>\n",
       "      <td>2.286313</td>\n",
       "    </tr>\n",
       "    <tr>\n",
       "      <th>15</th>\n",
       "      <td>7</td>\n",
       "      <td>1</td>\n",
       "      <td>0.005214</td>\n",
       "      <td>33.694596</td>\n",
       "      <td>0.000527</td>\n",
       "      <td>2.214335</td>\n",
       "    </tr>\n",
       "    <tr>\n",
       "      <th>16</th>\n",
       "      <td>7</td>\n",
       "      <td>2</td>\n",
       "      <td>0.005176</td>\n",
       "      <td>43.380931</td>\n",
       "      <td>0.000106</td>\n",
       "      <td>2.191745</td>\n",
       "    </tr>\n",
       "    <tr>\n",
       "      <th>17</th>\n",
       "      <td>7</td>\n",
       "      <td>3</td>\n",
       "      <td>0.005365</td>\n",
       "      <td>44.458686</td>\n",
       "      <td>-0.000132</td>\n",
       "      <td>3.426060</td>\n",
       "    </tr>\n",
       "    <tr>\n",
       "      <th>18</th>\n",
       "      <td>7</td>\n",
       "      <td>4</td>\n",
       "      <td>0.005632</td>\n",
       "      <td>42.473459</td>\n",
       "      <td>-0.000081</td>\n",
       "      <td>2.114493</td>\n",
       "    </tr>\n",
       "    <tr>\n",
       "      <th>19</th>\n",
       "      <td>7</td>\n",
       "      <td>5</td>\n",
       "      <td>0.005393</td>\n",
       "      <td>39.866066</td>\n",
       "      <td>0.000252</td>\n",
       "      <td>2.262530</td>\n",
       "    </tr>\n",
       "  </tbody>\n",
       "</table>\n",
       "</div>"
      ],
      "text/plain": [
       "    Driver Number  Phase Number  Mean C#1  Mean Speed  Mean Steering  \\\n",
       "0               4             1  0.005296   33.085712      -0.002051   \n",
       "1               4             2  0.005112   44.110936      -0.000170   \n",
       "2               4             3  0.005352   44.120461       0.000328   \n",
       "3               4             4  0.005331   43.768797       0.000065   \n",
       "4               4             5  0.005670   43.560012      -0.000171   \n",
       "5               5             1  0.005959   32.759561      -0.001750   \n",
       "6               5             2  0.006723   43.678108       0.000188   \n",
       "7               5             3  0.006027   43.421378      -0.000124   \n",
       "8               5             4  0.006922   43.199033       0.000179   \n",
       "9               5             5  0.006321   34.167074      -0.001080   \n",
       "10              6             1  0.005072   33.306186       0.007966   \n",
       "11              6             2  0.005780   44.164501       0.000184   \n",
       "12              6             3  0.005581   44.314753       0.000573   \n",
       "13              6             4  0.005942   43.200916      -0.000366   \n",
       "14              6             5  0.005924   43.684857      -0.000106   \n",
       "15              7             1  0.005214   33.694596       0.000527   \n",
       "16              7             2  0.005176   43.380931       0.000106   \n",
       "17              7             3  0.005365   44.458686      -0.000132   \n",
       "18              7             4  0.005632   42.473459      -0.000081   \n",
       "19              7             5  0.005393   39.866066       0.000252   \n",
       "\n",
       "    Mean Lane Position  \n",
       "0             2.192481  \n",
       "1             2.232543  \n",
       "2             3.369663  \n",
       "3             2.245137  \n",
       "4             2.218870  \n",
       "5             2.236578  \n",
       "6             2.283587  \n",
       "7             3.327765  \n",
       "8             2.352519  \n",
       "9             2.263826  \n",
       "10            2.263691  \n",
       "11            2.270101  \n",
       "12            3.382188  \n",
       "13            2.340778  \n",
       "14            2.286313  \n",
       "15            2.214335  \n",
       "16            2.191745  \n",
       "17            3.426060  \n",
       "18            2.114493  \n",
       "19            2.262530  "
      ]
     },
     "execution_count": 11,
     "metadata": {},
     "output_type": "execute_result"
    }
   ],
   "source": [
    "data = data.reindex(columns=['Driver Number', 'Phase Number','Mean C#1','Mean Speed','Mean Steering','Mean Lane Position'])\n",
    "data"
   ]
  },
  {
   "cell_type": "code",
   "execution_count": 32,
   "metadata": {},
   "outputs": [
    {
     "data": {
      "text/plain": [
       "Driver Number          5.500000\n",
       "Phase Number           3.000000\n",
       "Mean C#1               0.005690\n",
       "Mean Speed            40.920801\n",
       "Mean Steering          0.000217\n",
       "Mean Lane Position     2.473760\n",
       "dtype: float64"
      ]
     },
     "execution_count": 32,
     "metadata": {},
     "output_type": "execute_result"
    }
   ],
   "source": [
    "#calculate the Means for each of the subjects\n",
    "data.mean()"
   ]
  },
  {
   "cell_type": "code",
   "execution_count": 86,
   "metadata": {},
   "outputs": [
    {
     "data": {
      "text/plain": [
       "<bound method NDFrame.head of    Driver Number  Mean C#1  Mean Lane Position  Mean Speed  Mean Steering  \\\n",
       "0              4  0.005296            2.192481   33.085712      -0.002051   \n",
       "1              4  0.005112            2.232543   44.110936      -0.000170   \n",
       "2              4  0.005352            3.369663   44.120461       0.000328   \n",
       "3              4  0.005331            2.245137   43.768797       0.000065   \n",
       "4              4  0.005670            2.218870   43.560012      -0.000171   \n",
       "\n",
       "   Phase Number  \n",
       "0             1  \n",
       "1             2  \n",
       "2             3  \n",
       "3             4  \n",
       "4             5  >"
      ]
     },
     "execution_count": 86,
     "metadata": {},
     "output_type": "execute_result"
    }
   ],
   "source": [
    "#Driver 4\n",
    "sp = data.iloc[0:5]\n",
    "sp.head"
   ]
  },
  {
   "cell_type": "code",
   "execution_count": 33,
   "metadata": {},
   "outputs": [
    {
     "data": {
      "text/plain": [
       "Driver Number          4.000000\n",
       "Phase Number           3.000000\n",
       "Mean C#1               0.005352\n",
       "Mean Speed            41.729184\n",
       "Mean Steering         -0.000400\n",
       "Mean Lane Position     2.451739\n",
       "dtype: float64"
      ]
     },
     "execution_count": 33,
     "metadata": {},
     "output_type": "execute_result"
    }
   ],
   "source": [
    "#Mean of driver 4\n",
    "sp.mean()"
   ]
  },
  {
   "cell_type": "code",
   "execution_count": 17,
   "metadata": {},
   "outputs": [
    {
     "data": {
      "text/plain": [
       "<bound method NDFrame.head of    Driver Number  Phase Number  Mean C#1  Mean Speed  Mean Steering  \\\n",
       "5              5             1  0.005959   32.759561      -0.001750   \n",
       "6              5             2  0.006723   43.678108       0.000188   \n",
       "7              5             3  0.006027   43.421378      -0.000124   \n",
       "8              5             4  0.006922   43.199033       0.000179   \n",
       "9              5             5  0.006321   34.167074      -0.001080   \n",
       "\n",
       "   Mean Lane Position  \n",
       "5            2.236578  \n",
       "6            2.283587  \n",
       "7            3.327765  \n",
       "8            2.352519  \n",
       "9            2.263826  >"
      ]
     },
     "execution_count": 17,
     "metadata": {},
     "output_type": "execute_result"
    }
   ],
   "source": [
    "#Driver 5\n",
    "sp1 = data.iloc[5:10]\n",
    "sp1.head"
   ]
  },
  {
   "cell_type": "code",
   "execution_count": 34,
   "metadata": {},
   "outputs": [
    {
     "data": {
      "text/plain": [
       "Driver Number          5.000000\n",
       "Phase Number           3.000000\n",
       "Mean C#1               0.006391\n",
       "Mean Speed            39.445031\n",
       "Mean Steering         -0.000517\n",
       "Mean Lane Position     2.492855\n",
       "dtype: float64"
      ]
     },
     "execution_count": 34,
     "metadata": {},
     "output_type": "execute_result"
    }
   ],
   "source": [
    "#Mean of Driver 5\n",
    "sp1.mean()"
   ]
  },
  {
   "cell_type": "code",
   "execution_count": 22,
   "metadata": {},
   "outputs": [
    {
     "data": {
      "text/plain": [
       "<bound method NDFrame.head of     Driver Number  Phase Number  Mean C#1  Mean Speed  Mean Steering  \\\n",
       "10              6             1  0.005072   33.306186       0.007966   \n",
       "11              6             2  0.005780   44.164501       0.000184   \n",
       "12              6             3  0.005581   44.314753       0.000573   \n",
       "13              6             4  0.005942   43.200916      -0.000366   \n",
       "14              6             5  0.005924   43.684857      -0.000106   \n",
       "\n",
       "    Mean Lane Position  \n",
       "10            2.263691  \n",
       "11            2.270101  \n",
       "12            3.382188  \n",
       "13            2.340778  \n",
       "14            2.286313  >"
      ]
     },
     "execution_count": 22,
     "metadata": {},
     "output_type": "execute_result"
    }
   ],
   "source": [
    "#Driver 6\n",
    "sp2 = data.iloc[10:15]\n",
    "sp2.head"
   ]
  },
  {
   "cell_type": "code",
   "execution_count": 35,
   "metadata": {},
   "outputs": [
    {
     "data": {
      "text/plain": [
       "Driver Number          6.000000\n",
       "Phase Number           3.000000\n",
       "Mean C#1               0.005660\n",
       "Mean Speed            41.734242\n",
       "Mean Steering          0.001650\n",
       "Mean Lane Position     2.508614\n",
       "dtype: float64"
      ]
     },
     "execution_count": 35,
     "metadata": {},
     "output_type": "execute_result"
    }
   ],
   "source": [
    "#Mean of Driver 6\n",
    "sp2.mean()"
   ]
  },
  {
   "cell_type": "code",
   "execution_count": 21,
   "metadata": {},
   "outputs": [
    {
     "data": {
      "text/plain": [
       "<bound method NDFrame.head of     Driver Number  Phase Number  Mean C#1  Mean Speed  Mean Steering  \\\n",
       "15              7             1  0.005214   33.694596       0.000527   \n",
       "16              7             2  0.005176   43.380931       0.000106   \n",
       "17              7             3  0.005365   44.458686      -0.000132   \n",
       "18              7             4  0.005632   42.473459      -0.000081   \n",
       "19              7             5  0.005393   39.866066       0.000252   \n",
       "\n",
       "    Mean Lane Position  \n",
       "15            2.214335  \n",
       "16            2.191745  \n",
       "17            3.426060  \n",
       "18            2.114493  \n",
       "19            2.262530  >"
      ]
     },
     "execution_count": 21,
     "metadata": {},
     "output_type": "execute_result"
    }
   ],
   "source": [
    "#Driver 7\n",
    "sp3 = data.iloc[15:20]\n",
    "sp3.head"
   ]
  },
  {
   "cell_type": "code",
   "execution_count": 36,
   "metadata": {},
   "outputs": [
    {
     "data": {
      "text/plain": [
       "Driver Number          7.000000\n",
       "Phase Number           3.000000\n",
       "Mean C#1               0.005356\n",
       "Mean Speed            40.774748\n",
       "Mean Steering          0.000134\n",
       "Mean Lane Position     2.441833\n",
       "dtype: float64"
      ]
     },
     "execution_count": 36,
     "metadata": {},
     "output_type": "execute_result"
    }
   ],
   "source": [
    "#Mean of Driver 7\n",
    "sp3.mean()"
   ]
  },
  {
   "cell_type": "code",
   "execution_count": 83,
   "metadata": {},
   "outputs": [
    {
     "name": "stdout",
     "output_type": "stream",
     "text": [
      "  Driver Number  Mean C#1  Mean Lane Position  Mean Speed  Mean Steering  \\\n",
      "0             4  0.005352            2.451739   41.729184      -0.000400   \n",
      "1             5  0.006391            2.492855   39.445031      -0.000517   \n",
      "2             6  0.005660            2.508614   41.734242       0.001650   \n",
      "3             7  0.005356            2.441833   40.774748       0.000134   \n",
      "\n",
      "  Phase Number  \n",
      "0          All  \n",
      "1          All  \n",
      "2          All  \n",
      "3          All  \n"
     ]
    }
   ],
   "source": [
    "import pandas as pd\n",
    "\n",
    "data1 = {'Driver Number':       ['4',       '5',         '6',        '7'],\n",
    "        'Phase Number':        ['All',     'All',       'All',      'All'],\n",
    "        'Mean C#1':            [0.005352,   0.006391,   0.005660,    0.005356],\n",
    "        'Mean Speed':          [41.729184,  39.445031,  41.734242,   40.774748],\n",
    "        'Mean Steering':       [-0.000400,  -0.000517,  0.001650,   0.000134],\n",
    "        'Mean Lane Position':  [2.451739,   2.492855,   2.508614,   2.441833],\n",
    "       }\n",
    " \n",
    "# Convert the dictionary into DataFrame for seperate driver numbers\n",
    "df = pd.DataFrame(data1)\n",
    "\n",
    "print(df)"
   ]
  },
  {
   "cell_type": "code",
   "execution_count": 77,
   "metadata": {},
   "outputs": [
    {
     "data": {
      "text/html": [
       "<div>\n",
       "<style scoped>\n",
       "    .dataframe tbody tr th:only-of-type {\n",
       "        vertical-align: middle;\n",
       "    }\n",
       "\n",
       "    .dataframe tbody tr th {\n",
       "        vertical-align: top;\n",
       "    }\n",
       "\n",
       "    .dataframe thead th {\n",
       "        text-align: right;\n",
       "    }\n",
       "</style>\n",
       "<table border=\"1\" class=\"dataframe\">\n",
       "  <thead>\n",
       "    <tr style=\"text-align: right;\">\n",
       "      <th></th>\n",
       "      <th>Driver Number</th>\n",
       "      <th>Phase Number</th>\n",
       "      <th>Mean C#1</th>\n",
       "      <th>Mean Speed</th>\n",
       "      <th>Mean Steering</th>\n",
       "      <th>Mean Lane Position</th>\n",
       "    </tr>\n",
       "  </thead>\n",
       "  <tbody>\n",
       "    <tr>\n",
       "      <th>0</th>\n",
       "      <td>4</td>\n",
       "      <td>All</td>\n",
       "      <td>0.005352</td>\n",
       "      <td>41.729184</td>\n",
       "      <td>-0.000400</td>\n",
       "      <td>2.451739</td>\n",
       "    </tr>\n",
       "    <tr>\n",
       "      <th>1</th>\n",
       "      <td>5</td>\n",
       "      <td>All</td>\n",
       "      <td>0.006391</td>\n",
       "      <td>39.445031</td>\n",
       "      <td>-0.000517</td>\n",
       "      <td>2.492855</td>\n",
       "    </tr>\n",
       "    <tr>\n",
       "      <th>2</th>\n",
       "      <td>6</td>\n",
       "      <td>All</td>\n",
       "      <td>0.005660</td>\n",
       "      <td>41.734242</td>\n",
       "      <td>0.001650</td>\n",
       "      <td>2.508614</td>\n",
       "    </tr>\n",
       "    <tr>\n",
       "      <th>3</th>\n",
       "      <td>7</td>\n",
       "      <td>All</td>\n",
       "      <td>0.005356</td>\n",
       "      <td>40.774748</td>\n",
       "      <td>0.000134</td>\n",
       "      <td>2.441833</td>\n",
       "    </tr>\n",
       "  </tbody>\n",
       "</table>\n",
       "</div>"
      ],
      "text/plain": [
       "  Driver Number Phase Number  Mean C#1  Mean Speed  Mean Steering  \\\n",
       "0             4          All  0.005352   41.729184      -0.000400   \n",
       "1             5          All  0.006391   39.445031      -0.000517   \n",
       "2             6          All  0.005660   41.734242       0.001650   \n",
       "3             7          All  0.005356   40.774748       0.000134   \n",
       "\n",
       "   Mean Lane Position  \n",
       "0            2.451739  \n",
       "1            2.492855  \n",
       "2            2.508614  \n",
       "3            2.441833  "
      ]
     },
     "execution_count": 77,
     "metadata": {},
     "output_type": "execute_result"
    }
   ],
   "source": [
    "df = df.reindex(columns=['Driver Number', 'Phase Number','Mean C#1','Mean Speed','Mean Steering','Mean Lane Position'])\n",
    "df"
   ]
  },
  {
   "cell_type": "code",
   "execution_count": 70,
   "metadata": {},
   "outputs": [],
   "source": [
    "import pandas as pd\n",
    "writer = pd.ExcelWriter('/Users/cerser/Downloads/hw5-1.xlsx')\n",
    "df.to_excel(writer,'Sheet 1')\n",
    "writer.save()"
   ]
  },
  {
   "cell_type": "code",
   "execution_count": 96,
   "metadata": {},
   "outputs": [
    {
     "data": {
      "text/plain": [
       "<bound method NDFrame.head of Driver Number                5\n",
       "Mean C#1              0.006391\n",
       "Mean Lane Position     2.49286\n",
       "Mean Speed              39.445\n",
       "Mean Steering        -0.000517\n",
       "Phase Number               All\n",
       "Name: 1, dtype: object>"
      ]
     },
     "execution_count": 96,
     "metadata": {},
     "output_type": "execute_result"
    }
   ],
   "source": [
    "dn1 = df.iloc[1]\n",
    "dn1.head"
   ]
  },
  {
   "cell_type": "code",
   "execution_count": 27,
   "metadata": {},
   "outputs": [
    {
     "data": {
      "text/plain": [
       "<bound method NDFrame.head of     Driver Number  Phase Number  Mean C#1  Mean Speed  Mean Steering  \\\n",
       "0               4             1  0.005296   33.085712      -0.002051   \n",
       "5               5             1  0.005959   32.759561      -0.001750   \n",
       "10              6             1  0.005072   33.306186       0.007966   \n",
       "15              7             1  0.005214   33.694596       0.000527   \n",
       "\n",
       "    Mean Lane Position  \n",
       "0             2.192481  \n",
       "5             2.236578  \n",
       "10            2.263691  \n",
       "15            2.214335  >"
      ]
     },
     "execution_count": 27,
     "metadata": {},
     "output_type": "execute_result"
    }
   ],
   "source": [
    "sp4 = data.iloc[0:20:5]\n",
    "sp4.head\n",
    "#Phase number 1 "
   ]
  },
  {
   "cell_type": "code",
   "execution_count": 37,
   "metadata": {
    "scrolled": true
   },
   "outputs": [
    {
     "data": {
      "text/plain": [
       "Driver Number          5.500000\n",
       "Phase Number           1.000000\n",
       "Mean C#1               0.005385\n",
       "Mean Speed            33.211514\n",
       "Mean Steering          0.001173\n",
       "Mean Lane Position     2.226771\n",
       "dtype: float64"
      ]
     },
     "execution_count": 37,
     "metadata": {},
     "output_type": "execute_result"
    }
   ],
   "source": [
    "sp4.mean()"
   ]
  },
  {
   "cell_type": "code",
   "execution_count": 28,
   "metadata": {},
   "outputs": [
    {
     "data": {
      "text/plain": [
       "<bound method NDFrame.head of     Driver Number  Phase Number  Mean C#1  Mean Speed  Mean Steering  \\\n",
       "1               4             2  0.005112   44.110936      -0.000170   \n",
       "6               5             2  0.006723   43.678108       0.000188   \n",
       "11              6             2  0.005780   44.164501       0.000184   \n",
       "16              7             2  0.005176   43.380931       0.000106   \n",
       "\n",
       "    Mean Lane Position  \n",
       "1             2.232543  \n",
       "6             2.283587  \n",
       "11            2.270101  \n",
       "16            2.191745  >"
      ]
     },
     "execution_count": 28,
     "metadata": {},
     "output_type": "execute_result"
    }
   ],
   "source": [
    "sp5 = data.iloc[1:20:5]\n",
    "sp5.head\n",
    "#Phase number 2"
   ]
  },
  {
   "cell_type": "code",
   "execution_count": 38,
   "metadata": {},
   "outputs": [
    {
     "data": {
      "text/plain": [
       "Driver Number          5.500000\n",
       "Phase Number           2.000000\n",
       "Mean C#1               0.005698\n",
       "Mean Speed            43.833619\n",
       "Mean Steering          0.000077\n",
       "Mean Lane Position     2.244494\n",
       "dtype: float64"
      ]
     },
     "execution_count": 38,
     "metadata": {},
     "output_type": "execute_result"
    }
   ],
   "source": [
    "sp5.mean()"
   ]
  },
  {
   "cell_type": "code",
   "execution_count": 29,
   "metadata": {
    "collapsed": true
   },
   "outputs": [
    {
     "data": {
      "text/plain": [
       "<bound method NDFrame.head of     Driver Number  Phase Number  Mean C#1  Mean Speed  Mean Steering  \\\n",
       "2               4             3  0.005352   44.120461       0.000328   \n",
       "7               5             3  0.006027   43.421378      -0.000124   \n",
       "12              6             3  0.005581   44.314753       0.000573   \n",
       "17              7             3  0.005365   44.458686      -0.000132   \n",
       "\n",
       "    Mean Lane Position  \n",
       "2             3.369663  \n",
       "7             3.327765  \n",
       "12            3.382188  \n",
       "17            3.426060  >"
      ]
     },
     "execution_count": 29,
     "metadata": {},
     "output_type": "execute_result"
    }
   ],
   "source": [
    "sp6 = data.iloc[2:20:5]\n",
    "sp6.head\n",
    "#Phase number 3"
   ]
  },
  {
   "cell_type": "code",
   "execution_count": 39,
   "metadata": {},
   "outputs": [
    {
     "data": {
      "text/plain": [
       "Driver Number          5.500000\n",
       "Phase Number           3.000000\n",
       "Mean C#1               0.005581\n",
       "Mean Speed            44.078820\n",
       "Mean Steering          0.000161\n",
       "Mean Lane Position     3.376419\n",
       "dtype: float64"
      ]
     },
     "execution_count": 39,
     "metadata": {},
     "output_type": "execute_result"
    }
   ],
   "source": [
    "sp6.mean()"
   ]
  },
  {
   "cell_type": "code",
   "execution_count": 30,
   "metadata": {
    "collapsed": true
   },
   "outputs": [
    {
     "data": {
      "text/plain": [
       "<bound method NDFrame.head of     Driver Number  Phase Number  Mean C#1  Mean Speed  Mean Steering  \\\n",
       "3               4             4  0.005331   43.768797       0.000065   \n",
       "8               5             4  0.006922   43.199033       0.000179   \n",
       "13              6             4  0.005942   43.200916      -0.000366   \n",
       "18              7             4  0.005632   42.473459      -0.000081   \n",
       "\n",
       "    Mean Lane Position  \n",
       "3             2.245137  \n",
       "8             2.352519  \n",
       "13            2.340778  \n",
       "18            2.114493  >"
      ]
     },
     "execution_count": 30,
     "metadata": {},
     "output_type": "execute_result"
    }
   ],
   "source": [
    "sp7 = data.iloc[3:20:5]\n",
    "sp7.head\n",
    "#Phase number 4"
   ]
  },
  {
   "cell_type": "code",
   "execution_count": 40,
   "metadata": {},
   "outputs": [
    {
     "data": {
      "text/plain": [
       "Driver Number          5.500000\n",
       "Phase Number           4.000000\n",
       "Mean C#1               0.005957\n",
       "Mean Speed            43.160551\n",
       "Mean Steering         -0.000051\n",
       "Mean Lane Position     2.263232\n",
       "dtype: float64"
      ]
     },
     "execution_count": 40,
     "metadata": {},
     "output_type": "execute_result"
    }
   ],
   "source": [
    "sp7.mean()"
   ]
  },
  {
   "cell_type": "code",
   "execution_count": 31,
   "metadata": {},
   "outputs": [
    {
     "data": {
      "text/plain": [
       "<bound method NDFrame.head of     Driver Number  Phase Number  Mean C#1  Mean Speed  Mean Steering  \\\n",
       "4               4             5  0.005670   43.560012      -0.000171   \n",
       "9               5             5  0.006321   34.167074      -0.001080   \n",
       "14              6             5  0.005924   43.684857      -0.000106   \n",
       "19              7             5  0.005393   39.866066       0.000252   \n",
       "\n",
       "    Mean Lane Position  \n",
       "4             2.218870  \n",
       "9             2.263826  \n",
       "14            2.286313  \n",
       "19            2.262530  >"
      ]
     },
     "execution_count": 31,
     "metadata": {},
     "output_type": "execute_result"
    }
   ],
   "source": [
    "sp8 = data.iloc[4:20:5]\n",
    "sp8.head\n",
    "#Phase number 5"
   ]
  },
  {
   "cell_type": "code",
   "execution_count": 41,
   "metadata": {},
   "outputs": [
    {
     "data": {
      "text/plain": [
       "Driver Number          5.500000\n",
       "Phase Number           5.000000\n",
       "Mean C#1               0.005827\n",
       "Mean Speed            40.319502\n",
       "Mean Steering         -0.000277\n",
       "Mean Lane Position     2.257885\n",
       "dtype: float64"
      ]
     },
     "execution_count": 41,
     "metadata": {},
     "output_type": "execute_result"
    }
   ],
   "source": [
    "sp8.mean()"
   ]
  },
  {
   "cell_type": "code",
   "execution_count": 48,
   "metadata": {
    "collapsed": true
   },
   "outputs": [
    {
     "name": "stdout",
     "output_type": "stream",
     "text": [
      "  Driver Number  Mean C#1  Mean Lane Position  Mean Speed  Mean Steering  \\\n",
      "0           All  0.005385            2.226771   33.211514       0.001173   \n",
      "1           All  0.005698            2.244494   43.833619       0.000077   \n",
      "2           All  0.005581            3.376419   44.078820       0.000161   \n",
      "3           All  0.005957            2.263232   43.160551      -0.000051   \n",
      "4           All  0.005827            2.257885   40.319502      -0.000277   \n",
      "\n",
      "  Phase Number  \n",
      "0            1  \n",
      "1            2  \n",
      "2            3  \n",
      "3            4  \n",
      "4            5  \n"
     ]
    }
   ],
   "source": [
    "data1 = {'Driver Number':      ['All',      'All',     'All',       'All',        'All'],\n",
    "        'Phase Number':        ['1',        '2',       '3',         '4',           '5'],\n",
    "        'Mean C#1':            [0.005385,   0.005698,   0.005581,    0.005957,     0.005827],\n",
    "        'Mean Speed':          [33.211514,  43.833619,  44.078820,   43.160551,    40.319502],\n",
    "        'Mean Steering':       [0.001173,   0.000077,   0.000161,    -0.000051,    -0.000277],\n",
    "        'Mean Lane Position':  [2.226771,   2.244494,   3.376419,    2.263232,     2.257885],\n",
    "       }\n",
    " \n",
    "# Convert the dictionary into DataFrame for phase numbers\n",
    "df1 = pd.DataFrame(data1)\n",
    "\n",
    "print(df1)"
   ]
  },
  {
   "cell_type": "code",
   "execution_count": 88,
   "metadata": {},
   "outputs": [
    {
     "data": {
      "text/html": [
       "<div>\n",
       "<style scoped>\n",
       "    .dataframe tbody tr th:only-of-type {\n",
       "        vertical-align: middle;\n",
       "    }\n",
       "\n",
       "    .dataframe tbody tr th {\n",
       "        vertical-align: top;\n",
       "    }\n",
       "\n",
       "    .dataframe thead th {\n",
       "        text-align: right;\n",
       "    }\n",
       "</style>\n",
       "<table border=\"1\" class=\"dataframe\">\n",
       "  <thead>\n",
       "    <tr style=\"text-align: right;\">\n",
       "      <th></th>\n",
       "      <th>Driver Number</th>\n",
       "      <th>Phase Number</th>\n",
       "      <th>Mean C#1</th>\n",
       "      <th>Mean Speed</th>\n",
       "      <th>Mean Steering</th>\n",
       "      <th>Mean Lane Position</th>\n",
       "    </tr>\n",
       "  </thead>\n",
       "  <tbody>\n",
       "    <tr>\n",
       "      <th>0</th>\n",
       "      <td>All</td>\n",
       "      <td>1</td>\n",
       "      <td>0.005385</td>\n",
       "      <td>33.211514</td>\n",
       "      <td>0.001173</td>\n",
       "      <td>2.226771</td>\n",
       "    </tr>\n",
       "    <tr>\n",
       "      <th>1</th>\n",
       "      <td>All</td>\n",
       "      <td>2</td>\n",
       "      <td>0.005698</td>\n",
       "      <td>43.833619</td>\n",
       "      <td>0.000077</td>\n",
       "      <td>2.244494</td>\n",
       "    </tr>\n",
       "    <tr>\n",
       "      <th>2</th>\n",
       "      <td>All</td>\n",
       "      <td>3</td>\n",
       "      <td>0.005581</td>\n",
       "      <td>44.078820</td>\n",
       "      <td>0.000161</td>\n",
       "      <td>3.376419</td>\n",
       "    </tr>\n",
       "    <tr>\n",
       "      <th>3</th>\n",
       "      <td>All</td>\n",
       "      <td>4</td>\n",
       "      <td>0.005957</td>\n",
       "      <td>43.160551</td>\n",
       "      <td>-0.000051</td>\n",
       "      <td>2.263232</td>\n",
       "    </tr>\n",
       "    <tr>\n",
       "      <th>4</th>\n",
       "      <td>All</td>\n",
       "      <td>5</td>\n",
       "      <td>0.005827</td>\n",
       "      <td>40.319502</td>\n",
       "      <td>-0.000277</td>\n",
       "      <td>2.257885</td>\n",
       "    </tr>\n",
       "  </tbody>\n",
       "</table>\n",
       "</div>"
      ],
      "text/plain": [
       "  Driver Number Phase Number  Mean C#1  Mean Speed  Mean Steering  \\\n",
       "0           All            1  0.005385   33.211514       0.001173   \n",
       "1           All            2  0.005698   43.833619       0.000077   \n",
       "2           All            3  0.005581   44.078820       0.000161   \n",
       "3           All            4  0.005957   43.160551      -0.000051   \n",
       "4           All            5  0.005827   40.319502      -0.000277   \n",
       "\n",
       "   Mean Lane Position  \n",
       "0            2.226771  \n",
       "1            2.244494  \n",
       "2            3.376419  \n",
       "3            2.263232  \n",
       "4            2.257885  "
      ]
     },
     "execution_count": 88,
     "metadata": {},
     "output_type": "execute_result"
    }
   ],
   "source": [
    "df1 = df1.reindex(columns=['Driver Number', 'Phase Number','Mean C#1','Mean Speed','Mean Steering','Mean Lane Position'])\n",
    "df1"
   ]
  },
  {
   "cell_type": "code",
   "execution_count": 98,
   "metadata": {},
   "outputs": [
    {
     "data": {
      "text/html": [
       "<div>\n",
       "<style scoped>\n",
       "    .dataframe tbody tr th:only-of-type {\n",
       "        vertical-align: middle;\n",
       "    }\n",
       "\n",
       "    .dataframe tbody tr th {\n",
       "        vertical-align: top;\n",
       "    }\n",
       "\n",
       "    .dataframe thead th {\n",
       "        text-align: right;\n",
       "    }\n",
       "</style>\n",
       "<table border=\"1\" class=\"dataframe\">\n",
       "  <thead>\n",
       "    <tr style=\"text-align: right;\">\n",
       "      <th></th>\n",
       "      <th>Driver Number</th>\n",
       "      <th>Phase Number</th>\n",
       "      <th>Mean C#1</th>\n",
       "      <th>Mean Speed</th>\n",
       "      <th>Mean Steering</th>\n",
       "      <th>Mean Lane Position</th>\n",
       "    </tr>\n",
       "  </thead>\n",
       "  <tbody>\n",
       "    <tr>\n",
       "      <th>0</th>\n",
       "      <td>All</td>\n",
       "      <td>1</td>\n",
       "      <td>0.005385</td>\n",
       "      <td>33.211514</td>\n",
       "      <td>0.001173</td>\n",
       "      <td>2.226771</td>\n",
       "    </tr>\n",
       "  </tbody>\n",
       "</table>\n",
       "</div>"
      ],
      "text/plain": [
       "  Driver Number Phase Number  Mean C#1  Mean Speed  Mean Steering  \\\n",
       "0           All            1  0.005385   33.211514       0.001173   \n",
       "\n",
       "   Mean Lane Position  \n",
       "0            2.226771  "
      ]
     },
     "execution_count": 98,
     "metadata": {},
     "output_type": "execute_result"
    }
   ],
   "source": [
    "df_1 = df1.iloc[:1,:]\n",
    "df_1\n",
    "#phase number 1"
   ]
  },
  {
   "cell_type": "code",
   "execution_count": 99,
   "metadata": {},
   "outputs": [
    {
     "data": {
      "text/html": [
       "<div>\n",
       "<style scoped>\n",
       "    .dataframe tbody tr th:only-of-type {\n",
       "        vertical-align: middle;\n",
       "    }\n",
       "\n",
       "    .dataframe tbody tr th {\n",
       "        vertical-align: top;\n",
       "    }\n",
       "\n",
       "    .dataframe thead th {\n",
       "        text-align: right;\n",
       "    }\n",
       "</style>\n",
       "<table border=\"1\" class=\"dataframe\">\n",
       "  <thead>\n",
       "    <tr style=\"text-align: right;\">\n",
       "      <th></th>\n",
       "      <th>Driver Number</th>\n",
       "      <th>Phase Number</th>\n",
       "      <th>Mean C#1</th>\n",
       "      <th>Mean Speed</th>\n",
       "      <th>Mean Steering</th>\n",
       "      <th>Mean Lane Position</th>\n",
       "    </tr>\n",
       "  </thead>\n",
       "  <tbody>\n",
       "    <tr>\n",
       "      <th>1</th>\n",
       "      <td>All</td>\n",
       "      <td>2</td>\n",
       "      <td>0.005698</td>\n",
       "      <td>43.833619</td>\n",
       "      <td>0.000077</td>\n",
       "      <td>2.244494</td>\n",
       "    </tr>\n",
       "  </tbody>\n",
       "</table>\n",
       "</div>"
      ],
      "text/plain": [
       "  Driver Number Phase Number  Mean C#1  Mean Speed  Mean Steering  \\\n",
       "1           All            2  0.005698   43.833619       0.000077   \n",
       "\n",
       "   Mean Lane Position  \n",
       "1            2.244494  "
      ]
     },
     "execution_count": 99,
     "metadata": {},
     "output_type": "execute_result"
    }
   ],
   "source": [
    "df_2 = df1.iloc[1:2,:]\n",
    "df_2\n",
    "#Phase number 2"
   ]
  },
  {
   "cell_type": "code",
   "execution_count": 100,
   "metadata": {},
   "outputs": [
    {
     "data": {
      "text/html": [
       "<div>\n",
       "<style scoped>\n",
       "    .dataframe tbody tr th:only-of-type {\n",
       "        vertical-align: middle;\n",
       "    }\n",
       "\n",
       "    .dataframe tbody tr th {\n",
       "        vertical-align: top;\n",
       "    }\n",
       "\n",
       "    .dataframe thead th {\n",
       "        text-align: right;\n",
       "    }\n",
       "</style>\n",
       "<table border=\"1\" class=\"dataframe\">\n",
       "  <thead>\n",
       "    <tr style=\"text-align: right;\">\n",
       "      <th></th>\n",
       "      <th>Driver Number</th>\n",
       "      <th>Phase Number</th>\n",
       "      <th>Mean C#1</th>\n",
       "      <th>Mean Speed</th>\n",
       "      <th>Mean Steering</th>\n",
       "      <th>Mean Lane Position</th>\n",
       "    </tr>\n",
       "  </thead>\n",
       "  <tbody>\n",
       "    <tr>\n",
       "      <th>2</th>\n",
       "      <td>All</td>\n",
       "      <td>3</td>\n",
       "      <td>0.005581</td>\n",
       "      <td>44.07882</td>\n",
       "      <td>0.000161</td>\n",
       "      <td>3.376419</td>\n",
       "    </tr>\n",
       "  </tbody>\n",
       "</table>\n",
       "</div>"
      ],
      "text/plain": [
       "  Driver Number Phase Number  Mean C#1  Mean Speed  Mean Steering  \\\n",
       "2           All            3  0.005581    44.07882       0.000161   \n",
       "\n",
       "   Mean Lane Position  \n",
       "2            3.376419  "
      ]
     },
     "execution_count": 100,
     "metadata": {},
     "output_type": "execute_result"
    }
   ],
   "source": [
    "df_3 = df1.iloc[2:3,:]\n",
    "df_3\n",
    "#Phase number 3"
   ]
  },
  {
   "cell_type": "code",
   "execution_count": 101,
   "metadata": {},
   "outputs": [
    {
     "data": {
      "text/html": [
       "<div>\n",
       "<style scoped>\n",
       "    .dataframe tbody tr th:only-of-type {\n",
       "        vertical-align: middle;\n",
       "    }\n",
       "\n",
       "    .dataframe tbody tr th {\n",
       "        vertical-align: top;\n",
       "    }\n",
       "\n",
       "    .dataframe thead th {\n",
       "        text-align: right;\n",
       "    }\n",
       "</style>\n",
       "<table border=\"1\" class=\"dataframe\">\n",
       "  <thead>\n",
       "    <tr style=\"text-align: right;\">\n",
       "      <th></th>\n",
       "      <th>Driver Number</th>\n",
       "      <th>Phase Number</th>\n",
       "      <th>Mean C#1</th>\n",
       "      <th>Mean Speed</th>\n",
       "      <th>Mean Steering</th>\n",
       "      <th>Mean Lane Position</th>\n",
       "    </tr>\n",
       "  </thead>\n",
       "  <tbody>\n",
       "    <tr>\n",
       "      <th>3</th>\n",
       "      <td>All</td>\n",
       "      <td>4</td>\n",
       "      <td>0.005957</td>\n",
       "      <td>43.160551</td>\n",
       "      <td>-0.000051</td>\n",
       "      <td>2.263232</td>\n",
       "    </tr>\n",
       "  </tbody>\n",
       "</table>\n",
       "</div>"
      ],
      "text/plain": [
       "  Driver Number Phase Number  Mean C#1  Mean Speed  Mean Steering  \\\n",
       "3           All            4  0.005957   43.160551      -0.000051   \n",
       "\n",
       "   Mean Lane Position  \n",
       "3            2.263232  "
      ]
     },
     "execution_count": 101,
     "metadata": {},
     "output_type": "execute_result"
    }
   ],
   "source": [
    "df_4 = df1.iloc[3:4,:]\n",
    "df_4\n",
    "#Phase number 4"
   ]
  },
  {
   "cell_type": "code",
   "execution_count": 102,
   "metadata": {},
   "outputs": [
    {
     "data": {
      "text/html": [
       "<div>\n",
       "<style scoped>\n",
       "    .dataframe tbody tr th:only-of-type {\n",
       "        vertical-align: middle;\n",
       "    }\n",
       "\n",
       "    .dataframe tbody tr th {\n",
       "        vertical-align: top;\n",
       "    }\n",
       "\n",
       "    .dataframe thead th {\n",
       "        text-align: right;\n",
       "    }\n",
       "</style>\n",
       "<table border=\"1\" class=\"dataframe\">\n",
       "  <thead>\n",
       "    <tr style=\"text-align: right;\">\n",
       "      <th></th>\n",
       "      <th>Driver Number</th>\n",
       "      <th>Phase Number</th>\n",
       "      <th>Mean C#1</th>\n",
       "      <th>Mean Speed</th>\n",
       "      <th>Mean Steering</th>\n",
       "      <th>Mean Lane Position</th>\n",
       "    </tr>\n",
       "  </thead>\n",
       "  <tbody>\n",
       "    <tr>\n",
       "      <th>4</th>\n",
       "      <td>All</td>\n",
       "      <td>5</td>\n",
       "      <td>0.005827</td>\n",
       "      <td>40.319502</td>\n",
       "      <td>-0.000277</td>\n",
       "      <td>2.257885</td>\n",
       "    </tr>\n",
       "  </tbody>\n",
       "</table>\n",
       "</div>"
      ],
      "text/plain": [
       "  Driver Number Phase Number  Mean C#1  Mean Speed  Mean Steering  \\\n",
       "4           All            5  0.005827   40.319502      -0.000277   \n",
       "\n",
       "   Mean Lane Position  \n",
       "4            2.257885  "
      ]
     },
     "execution_count": 102,
     "metadata": {},
     "output_type": "execute_result"
    }
   ],
   "source": [
    "df_5 = df1.iloc[4:5,:]\n",
    "df_5\n",
    "#Phase number 5"
   ]
  },
  {
   "cell_type": "code",
   "execution_count": 71,
   "metadata": {},
   "outputs": [],
   "source": [
    "import pandas as pd\n",
    "writer = pd.ExcelWriter('/Users/cerser/Downloads/hw5-1.xlsx')\n",
    "df1.to_excel(writer,'Sheet 2')\n",
    "writer.save()"
   ]
  },
  {
   "cell_type": "code",
   "execution_count": 104,
   "metadata": {},
   "outputs": [],
   "source": [
    "with pd.ExcelWriter('hw5-1.xlsx') as writer: \n",
    "    df.to_excel(writer, sheet_name='Sheet 1')\n",
    "    df_1.to_excel(writer, sheet_name='Sheet 2')\n",
    "    df_2.to_excel(writer, sheet_name='Sheet 3')\n",
    "    df_3.to_excel(writer, sheet_name='Sheet 4')\n",
    "    df_4.to_excel(writer, sheet_name='Sheet 5')\n",
    "    df_5.to_excel(writer, sheet_name='Sheet 6')"
   ]
  },
  {
   "cell_type": "code",
   "execution_count": null,
   "metadata": {},
   "outputs": [],
   "source": []
  }
 ],
 "metadata": {
  "kernelspec": {
   "display_name": "Python 3",
   "language": "python",
   "name": "python3"
  },
  "language_info": {
   "codemirror_mode": {
    "name": "ipython",
    "version": 3
   },
   "file_extension": ".py",
   "mimetype": "text/x-python",
   "name": "python",
   "nbconvert_exporter": "python",
   "pygments_lexer": "ipython3",
   "version": "3.6.7"
  }
 },
 "nbformat": 4,
 "nbformat_minor": 2
}
